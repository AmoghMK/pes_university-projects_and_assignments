{
 "cells": [
  {
   "cell_type": "code",
   "execution_count": 32,
   "metadata": {
    "collapsed": true
   },
   "outputs": [],
   "source": [
    "## Put all imports\n",
    "import pandas as pd\n",
    "import random"
   ]
  },
  {
   "cell_type": "code",
   "execution_count": 4,
   "metadata": {},
   "outputs": [
    {
     "name": "stdout",
     "output_type": "stream",
     "text": [
      "    Sl no Team 1 Team 2  Day    Date    Time      Venue\n",
      "0       1     MI    CSK  Sat   7-Apr  8 (PM)     Mumbai\n",
      "1       2     DD    KXP  Sun   8-Apr  4 (PM)      Delhi\n",
      "2       3    KKR    RCB  Sun   8-Apr  8 (PM)    Kolkata\n",
      "3       4    SRH     RR  Mon   9-Apr  8 (PM)  Hyderabad\n",
      "4       5    CSK    KKR  Tue  10-Apr  8 (PM)    Chennai\n",
      "5       6     RR     DD  Wed  11-Apr  8 (PM)     Jaipur\n",
      "6       7    SRH     MI  Thu  12-Apr  8 (PM)  Hyderabad\n",
      "7       8    RCB    KXP  Fri  13-Apr  8 (PM)  Bengaluru\n",
      "8       9     MI     DD  Sat  14-Apr  4 (PM)     Mumbai\n",
      "9      10    KKR    SRH  Sat  14-Apr  8 (PM)    Kolkata\n",
      "10     11    RCB     RR  Sun  15-Apr  4 (PM)  Bengaluru\n",
      "11     12    KXP    CSK  Sun  15-Apr  8 (PM)     Indore\n",
      "12     13    KKR     DD  Mon  16-Apr  8 (PM)    Kolkata\n",
      "13     14     MI    RCB  Tue  17-Apr  8 (PM)     Mumbai\n",
      "14     15     RR    KKR  Wed  18-Apr  8 (PM)     Jaipur\n",
      "15     16    KXP    SRH  Thu  19-Apr  8 (PM)     Indore\n",
      "16     17    CSK     RR  Fri  20-Apr  8 (PM)    Chennai\n",
      "17     18    KKR    KXP  Sat  21-Apr  4 (PM)    Kolkata\n",
      "18     19     DD    RCB  Sat  21-Apr  8 (PM)      Delhi\n",
      "19     20    SRH    CSK  Sun  22-Apr  4 (PM)  Hyderabad\n",
      "20     21     RR     MI  Sun  22-Apr  8 (PM)     Jaipur\n",
      "21     22    KXP     DD  Mon  23-Apr  8 (PM)     Indore\n",
      "22     23     MI    SRH  Tue  24-Apr  8 (PM)     Mumbai\n",
      "23     24    RCB    CSK  Wed  25-Apr  8 (PM)  Bengaluru\n",
      "24     25    SRH    KXP  Thu  26-Apr  8 (PM)  Hyderabad\n",
      "25     26     DD    KKR  Fri  27-Apr  8 (PM)      Delhi\n",
      "26     27    CSK     MI  Sat  28-Apr  8 (PM)    Chennai\n",
      "27     28     RR    SRH  Sun  29-Apr  4 (PM)     Jaipur\n",
      "28     29    RCB    KKR  Sun  29-Apr  8 (PM)  Bengaluru\n",
      "29     30    CSK     DD  Mon  30-Apr  8 (PM)    Chennai\n",
      "30     31    RCB     MI  Tue   1-May  8 (PM)  Bengaluru\n",
      "31     32     DD     RR  Wed   2-May  8 (PM)      Delhi\n",
      "32     33    KKR    CSK  Thu   3-May  8 (PM)    Kolkata\n",
      "33     34    KXP     MI  Fri   4-May  8 (PM)     Mohali\n",
      "34     35    CSK    RCB  Sat   5-May  4 (PM)    Chennai\n",
      "35     36    SRH     DD  Sat   5-May  8 (PM)  Hyderabad\n",
      "36     37     MI    KKR  Sun   6-May  4 (PM)     Mumbai\n",
      "37     38    KXP     RR  Sun   6-May  8 (PM)     Mohali\n",
      "38     39    SRH    RCB  Mon   7-May  8 (PM)  Hyderabad\n",
      "39     40     RR    KXP  Tue   8-May  8 (PM)     Jaipur\n",
      "40     41    KKR     MI  Wed   9-May  8 (PM)    Kolkata\n",
      "41     42     DD    SRH  Thu  10-May  8 (PM)      Delhi\n",
      "42     43     RR    CSK  Fri  11-May  8 (PM)     Jaipur\n",
      "43     44    KXP    KKR  Sat  12-May  4 (PM)     Mohali\n",
      "44     45    RCB     DD  Sat  12-May  8 (PM)  Bengaluru\n",
      "45     46    CSK    SRH  Sun  13-May  4 (PM)    Chennai\n",
      "46     47     MI     RR  Sun  13-May  8 (PM)     Mumbai\n",
      "47     48    KXP    RCB  Mon  14-May  8 (PM)     Mohali\n",
      "48     49    KKR     RR  Tue  15-May  8 (PM)    Kolkata\n",
      "49     50     MI    KXP  Wed  16-May  8 (PM)     Mumbai\n",
      "50     51    RCB    SRH  Thu  17-May  8 (PM)  Bengaluru\n",
      "51     52     DD    CSK  Fri  18-May  8 (PM)      Delhi\n",
      "52     53     RR    RCB  Sat  19-May  4 (PM)     Jaipur\n",
      "53     54    SRH    KKR  Sat  19-May  8 (PM)  Hyderabad\n",
      "54     55     DD     MI  Sun  20-May  4 (PM)      Delhi\n",
      "55     56    CSK    KXP  Sun  20-May  8 (PM)    Chennai\n",
      "56     57    TBD    TBD  Tue  22-May  8 (PM)     Mumbai\n",
      "57     58    TBD    TBD  Wed  23-May  8 (PM)        TBC\n",
      "58     59    TBD    TBD  Fri  25-May  8 (PM)        TBC\n",
      "59     60    TBD    TBD  Sun  27-May  8 (PM)     Mumbai\n"
     ]
    }
   ],
   "source": [
    "df = pd.read_csv(\"../schedule.csv\")"
   ]
  },
  {
   "cell_type": "code",
   "execution_count": 30,
   "metadata": {},
   "outputs": [
    {
     "name": "stdout",
     "output_type": "stream",
     "text": [
      "    Sl no Team 1 Team 2  Day    Date    Time   Venue\n",
      "56     57    TBD    TBD  Tue  22-May  8 (PM)  Mumbai\n",
      "57     58    TBD    TBD  Wed  23-May  8 (PM)     TBC\n",
      "58     59    TBD    TBD  Fri  25-May  8 (PM)     TBC\n",
      "59     60    TBD    TBD  Sun  27-May  8 (PM)  Mumbai\n"
     ]
    }
   ],
   "source": [
    "final = df[56:60][:]\n",
    "print(final)\n",
    "league = df[0:56][:]"
   ]
  },
  {
   "cell_type": "code",
   "execution_count": null,
   "metadata": {
    "collapsed": true
   },
   "outputs": [],
   "source": [
    "def init():\n",
    "    \"Function to read all the files before hand and prepare appropriate data structures\"\n",
    "    pass"
   ]
  },
  {
   "cell_type": "code",
   "execution_count": null,
   "metadata": {
    "collapsed": true
   },
   "outputs": [],
   "source": [
    "# Function to print initial commentry before match for debugging purpose.\n",
    "def welcome_comments(match):\n",
    "    print(\"Welcome to the Game \" +str(i+1) +\" which is played between \" + match[\"Team 1\"] +\n",
    "          \" and \" + match[\"Team 2\"] + \" at \"+match[\"Venue\"] + \" on \"+ match[\"Date\"] +\" \" + match[\"Day\"] + \"!\")"
   ]
  },
  {
   "cell_type": "code",
   "execution_count": 55,
   "metadata": {},
   "outputs": [
    {
     "name": "stdout",
     "output_type": "stream",
     "text": [
      "('MI', 'CSK')\n"
     ]
    }
   ],
   "source": [
    "# Function to simulate Coin Toss\n",
    "def simulate_coin_toss(team1, team2):\n",
    "    participants = (team1, team2)\n",
    "    # Randomly choose one from tuple\n",
    "    randindex = random.randint(0,100)\n",
    "    # Winner get choice\n",
    "    winner = randindex%2\n",
    "    loser = 0 if winner == 1 else 1\n",
    "    choice = (\"Batting\", \"Bowling\")\n",
    "    randindex = random.randint(0,100)\n",
    "    if randindex%2 == 0:\n",
    "        return (participants[winner], participants[loser])\n",
    "    return (participants[loser], participants[winner])\n",
    "\n",
    "# Uncomment to test the function\n",
    "# print(simulate_coin_toss(\"MI\",\"CSK\"))"
   ]
  },
  {
   "cell_type": "code",
   "execution_count": null,
   "metadata": {
    "collapsed": true
   },
   "outputs": [],
   "source": [
    "# Function to simulate the innings\n",
    "def simulate_innings(batteam, bowlteam, match, o_cap, p_cap, over = 20):\n",
    "    # decide number of balls\n",
    "    num_ball = over*6\n",
    "    for i in range(0, num_ball):\n",
    "        # Simulate that delivery\n",
    "        pass\n",
    "    pass"
   ]
  },
  {
   "cell_type": "code",
   "execution_count": null,
   "metadata": {
    "collapsed": true
   },
   "outputs": [],
   "source": [
    "# Function to simulate the match\n",
    "def simulate_match(match, rep = 1):\n",
    "    winner = loser = \"\"\n",
    "    # Simulate the coin toss\n",
    "    batteam, bowlteam = simulate_coin_toss(match[\"Team 1\"], match[\"Team 2\"])\n",
    "    # First Innings\n",
    "    target = simulate_innings(batteam, bowlteam, match, o_cap, p_cap)\n",
    "    # Second Innings\n",
    "    final_score = simulate_innings(batteam, bowlteam, match, o_cap, p_cap)\n",
    "    # Decide the winner and loser\n",
    "    if(final_score > target):\n",
    "        winner = bowlteam\n",
    "        loser = batteam\n",
    "    elif final_score < target:\n",
    "        winner = batteam\n",
    "        loser = bowlteam\n",
    "    else:\n",
    "        # Toss for Super over\n",
    "        batteam, bowlteam = simulate_coin_toss(match[\"Team 1\"], match[\"Team 2\"])\n",
    "        # First Innings\n",
    "        target = simulate_innings(batteam, bowlteam, match, o_cap, p_cap, 1)\n",
    "        # Second Innings\n",
    "        final_score = simulate_innings(batteam, bowlteam, match, o_cap, p_cap, 1)\n",
    "        # Decision of match\n",
    "        if(final_score > target):\n",
    "            winner = bowlteam\n",
    "            loser = batteam\n",
    "        elif final_score < target:\n",
    "            winner = batteam\n",
    "            loser = bowlteam\n",
    "        else:\n",
    "            winner = None\n",
    "            loser = None\n",
    "    # Update Points Table\n",
    "    update_points_table(winner, loser, match[\"Team 1\"], match[\"Team 2\"])\n",
    "    # Update Purple Cap Contenders\n",
    "    update_purple_cap(p_cap)\n",
    "    # Update orange Cap Contenders\n",
    "    update_orange_cap(o_cap)\n",
    "    return (winner, loser)\n",
    "    pass"
   ]
  },
  {
   "cell_type": "code",
   "execution_count": 29,
   "metadata": {},
   "outputs": [
    {
     "name": "stdout",
     "output_type": "stream",
     "text": [
      "Welcome to the Game 1 which is played between MI and CSK at Mumbai on 7-Apr Sat!\n"
     ]
    }
   ],
   "source": [
    "# Simulation Begins\n",
    "for i in range(0,56):\n",
    "    # Interest is each row\n",
    "    match = dict(league.loc[i])\n",
    "    welcome_comments(match)\n",
    "    # Call to match simulate for simulating the match\n",
    "    winner, loser = simulate_match(match)\n",
    "    print(\"Winner of match \"+str(match[\"Sl no\"]) + \" is\", winner)\n",
    "# Open the points table file and select top 4 teams to decide the last 4 matches\n",
    "pointstable = pd.read_csv(\"../pointstable.csv\")\n",
    "# Qualifier 1\n",
    "match = final.loc[56]\n",
    "match[\"Team 1\"] = pointstable.loc[0][\"Team\"]\n",
    "match[\"Team 2\"] = pointstable.loc[1][\"Team\"]\n",
    "welcome_comments(match)\n",
    "winner, loser = simulate_match(match)\n",
    "final.loc[58][\"Team 1\"] = loser\n",
    "final.loc[59][\"Team 1\"] = winner\n",
    "# Eliminator\n",
    "match = final.loc[57]\n",
    "match[\"Team 1\"] = pointstable.loc[2][\"Team\"]\n",
    "match[\"Team 2\"] = pointstable.loc[3][\"Team\"]\n",
    "match[\"Venue\"] = \"Bangalore\"\n",
    "welcome_comments(match)\n",
    "winner, loser = simulate_match(match)\n",
    "final.loc[58][\"Team 2\"] = winner\n",
    "# Qualifier 2\n",
    "match = final.loc[58]\n",
    "welcome_comments(match)\n",
    "winner, loser = simulate_match(match)\n",
    "final.loc[59][\"Team 2\"] = winner\n",
    "# Final\n",
    "match = final.loc[59]\n",
    "welcome_comments(match)\n",
    "winner, loser = simulate_match(match, rep=3)\n",
    "print(\"The winner of the IPL 2018 season 11 is\", winner)\n",
    "print(\"The orange cap winner is\", get_orange_cap())\n",
    "print(\"The purple cap winner is\", get_purple_cap())\n",
    "\n",
    "# Display points table for midseason\n",
    "midseason = pd.read_csv(\"../midseason.csv\")\n",
    "print(midseason)\n",
    "# Display points table for full season\n",
    "print(pointstable)"
   ]
  }
 ],
 "metadata": {
  "kernelspec": {
   "display_name": "Python 3",
   "language": "python",
   "name": "python3"
  },
  "language_info": {
   "codemirror_mode": {
    "name": "ipython",
    "version": 3
   },
   "file_extension": ".py",
   "mimetype": "text/x-python",
   "name": "python",
   "nbconvert_exporter": "python",
   "pygments_lexer": "ipython3",
   "version": "3.6.3"
  }
 },
 "nbformat": 4,
 "nbformat_minor": 2
}
